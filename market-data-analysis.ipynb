{
 "cells": [
  {
   "cell_type": "markdown",
   "id": "a47221f1",
   "metadata": {
    "papermill": {
     "duration": 0.008914,
     "end_time": "2024-07-17T14:43:19.820053",
     "exception": false,
     "start_time": "2024-07-17T14:43:19.811139",
     "status": "completed"
    },
    "tags": []
   },
   "source": [
    "### Questions Answered through this Analysis¶\n",
    "#### 1. Are there any null values or outliers? How will you handle them?\n",
    "#### 2. What factors are significantly related to the number of web purchases?\n",
    "#### 3. Which marketing campaign was the most successful?\n",
    "#### 4. What does the average customer look like?\n",
    "#### 5. Which products are performing best?\n",
    "#### 6. Which channels are underperforming?"
   ]
  },
  {
   "cell_type": "code",
   "execution_count": 1,
   "id": "4666d44d",
   "metadata": {
    "_cell_guid": "b1076dfc-b9ad-4769-8c92-a6c4dae69d19",
    "_uuid": "8f2839f25d086af736a60e9eeb907d3b93b6e0e5",
    "execution": {
     "iopub.execute_input": "2024-07-17T14:43:19.838759Z",
     "iopub.status.busy": "2024-07-17T14:43:19.838338Z",
     "iopub.status.idle": "2024-07-17T14:43:20.787472Z",
     "shell.execute_reply": "2024-07-17T14:43:20.786125Z"
    },
    "papermill": {
     "duration": 0.961447,
     "end_time": "2024-07-17T14:43:20.790121",
     "exception": false,
     "start_time": "2024-07-17T14:43:19.828674",
     "status": "completed"
    },
    "tags": []
   },
   "outputs": [
    {
     "name": "stdout",
     "output_type": "stream",
     "text": [
      "/kaggle/input/marketing-dataset/marketing_data.csv\n",
      "/kaggle/input/marketing-dataset/marketing_data_dictionary.csv\n"
     ]
    }
   ],
   "source": [
    "# This Python 3 environment comes with many helpful analytics libraries installed\n",
    "# It is defined by the kaggle/python Docker image: https://github.com/kaggle/docker-python\n",
    "# For example, here's several helpful packages to load\n",
    "\n",
    "import numpy as np # linear algebra\n",
    "import pandas as pd # data processing, CSV file I/O (e.g. pd.read_csv)\n",
    "\n",
    "# Input data files are available in the read-only \"../input/\" directory\n",
    "# For example, running this (by clicking run or pressing Shift+Enter) will list all files under the input directory\n",
    "\n",
    "import os\n",
    "for dirname, _, filenames in os.walk('/kaggle/input'):\n",
    "    for filename in filenames:\n",
    "        print(os.path.join(dirname, filename))\n",
    "\n",
    "# You can write up to 20GB to the current directory (/kaggle/working/) that gets preserved as output when you create a version using \"Save & Run All\" \n",
    "# You can also write temporary files to /kaggle/temp/, but they won't be saved outside of the current session"
   ]
  },
  {
   "cell_type": "code",
   "execution_count": 2,
   "id": "d6d9d485",
   "metadata": {
    "execution": {
     "iopub.execute_input": "2024-07-17T14:43:20.808685Z",
     "iopub.status.busy": "2024-07-17T14:43:20.808227Z",
     "iopub.status.idle": "2024-07-17T14:43:24.389398Z",
     "shell.execute_reply": "2024-07-17T14:43:24.388301Z"
    },
    "papermill": {
     "duration": 3.593504,
     "end_time": "2024-07-17T14:43:24.392132",
     "exception": false,
     "start_time": "2024-07-17T14:43:20.798628",
     "status": "completed"
    },
    "tags": []
   },
   "outputs": [],
   "source": [
    "import numpy as np # linear algebra\n",
    "import pandas as pd # data processing, CSV file I/O (e.g. pd.read_csv)\n",
    "import matplotlib.pyplot as plt\n",
    "import seaborn as sns\n",
    "import statsmodels.api as sm\n",
    "from sklearn.linear_model import LinearRegression\n",
    "from sklearn.model_selection import train_test_split\n",
    "from sklearn.metrics import mean_squared_error\n",
    "from sklearn.metrics import r2_score\n",
    "%matplotlib inline"
   ]
  },
  {
   "cell_type": "code",
   "execution_count": 3,
   "id": "cbfb4b37",
   "metadata": {
    "execution": {
     "iopub.execute_input": "2024-07-17T14:43:24.411009Z",
     "iopub.status.busy": "2024-07-17T14:43:24.410445Z",
     "iopub.status.idle": "2024-07-17T14:43:24.479850Z",
     "shell.execute_reply": "2024-07-17T14:43:24.478297Z"
    },
    "papermill": {
     "duration": 0.082949,
     "end_time": "2024-07-17T14:43:24.483625",
     "exception": false,
     "start_time": "2024-07-17T14:43:24.400676",
     "status": "completed"
    },
    "tags": []
   },
   "outputs": [
    {
     "data": {
      "text/html": [
       "<div>\n",
       "<style scoped>\n",
       "    .dataframe tbody tr th:only-of-type {\n",
       "        vertical-align: middle;\n",
       "    }\n",
       "\n",
       "    .dataframe tbody tr th {\n",
       "        vertical-align: top;\n",
       "    }\n",
       "\n",
       "    .dataframe thead th {\n",
       "        text-align: right;\n",
       "    }\n",
       "</style>\n",
       "<table border=\"1\" class=\"dataframe\">\n",
       "  <thead>\n",
       "    <tr style=\"text-align: right;\">\n",
       "      <th></th>\n",
       "      <th>ID</th>\n",
       "      <th>Year_Birth</th>\n",
       "      <th>Education</th>\n",
       "      <th>Marital_Status</th>\n",
       "      <th>Income</th>\n",
       "      <th>Kidhome</th>\n",
       "      <th>Teenhome</th>\n",
       "      <th>Dt_Customer</th>\n",
       "      <th>Recency</th>\n",
       "      <th>MntWines</th>\n",
       "      <th>...</th>\n",
       "      <th>NumStorePurchases</th>\n",
       "      <th>NumWebVisitsMonth</th>\n",
       "      <th>AcceptedCmp3</th>\n",
       "      <th>AcceptedCmp4</th>\n",
       "      <th>AcceptedCmp5</th>\n",
       "      <th>AcceptedCmp1</th>\n",
       "      <th>AcceptedCmp2</th>\n",
       "      <th>Response</th>\n",
       "      <th>Complain</th>\n",
       "      <th>Country</th>\n",
       "    </tr>\n",
       "  </thead>\n",
       "  <tbody>\n",
       "    <tr>\n",
       "      <th>0</th>\n",
       "      <td>1826</td>\n",
       "      <td>1970</td>\n",
       "      <td>Graduation</td>\n",
       "      <td>Divorced</td>\n",
       "      <td>84835.0</td>\n",
       "      <td>0</td>\n",
       "      <td>0</td>\n",
       "      <td>2014-06-16</td>\n",
       "      <td>0</td>\n",
       "      <td>189</td>\n",
       "      <td>...</td>\n",
       "      <td>6</td>\n",
       "      <td>1</td>\n",
       "      <td>0</td>\n",
       "      <td>0</td>\n",
       "      <td>0</td>\n",
       "      <td>0</td>\n",
       "      <td>0</td>\n",
       "      <td>1</td>\n",
       "      <td>0</td>\n",
       "      <td>Spain</td>\n",
       "    </tr>\n",
       "    <tr>\n",
       "      <th>1</th>\n",
       "      <td>1</td>\n",
       "      <td>1961</td>\n",
       "      <td>Graduation</td>\n",
       "      <td>Single</td>\n",
       "      <td>57091.0</td>\n",
       "      <td>0</td>\n",
       "      <td>0</td>\n",
       "      <td>2014-06-15</td>\n",
       "      <td>0</td>\n",
       "      <td>464</td>\n",
       "      <td>...</td>\n",
       "      <td>7</td>\n",
       "      <td>5</td>\n",
       "      <td>0</td>\n",
       "      <td>0</td>\n",
       "      <td>0</td>\n",
       "      <td>0</td>\n",
       "      <td>1</td>\n",
       "      <td>1</td>\n",
       "      <td>0</td>\n",
       "      <td>Canada</td>\n",
       "    </tr>\n",
       "    <tr>\n",
       "      <th>2</th>\n",
       "      <td>10476</td>\n",
       "      <td>1958</td>\n",
       "      <td>Graduation</td>\n",
       "      <td>Married</td>\n",
       "      <td>67267.0</td>\n",
       "      <td>0</td>\n",
       "      <td>1</td>\n",
       "      <td>2014-05-13</td>\n",
       "      <td>0</td>\n",
       "      <td>134</td>\n",
       "      <td>...</td>\n",
       "      <td>5</td>\n",
       "      <td>2</td>\n",
       "      <td>0</td>\n",
       "      <td>0</td>\n",
       "      <td>0</td>\n",
       "      <td>0</td>\n",
       "      <td>0</td>\n",
       "      <td>0</td>\n",
       "      <td>0</td>\n",
       "      <td>USA</td>\n",
       "    </tr>\n",
       "    <tr>\n",
       "      <th>3</th>\n",
       "      <td>1386</td>\n",
       "      <td>1967</td>\n",
       "      <td>Graduation</td>\n",
       "      <td>Together</td>\n",
       "      <td>32474.0</td>\n",
       "      <td>1</td>\n",
       "      <td>1</td>\n",
       "      <td>2014-05-11</td>\n",
       "      <td>0</td>\n",
       "      <td>10</td>\n",
       "      <td>...</td>\n",
       "      <td>2</td>\n",
       "      <td>7</td>\n",
       "      <td>0</td>\n",
       "      <td>0</td>\n",
       "      <td>0</td>\n",
       "      <td>0</td>\n",
       "      <td>0</td>\n",
       "      <td>0</td>\n",
       "      <td>0</td>\n",
       "      <td>Australia</td>\n",
       "    </tr>\n",
       "    <tr>\n",
       "      <th>4</th>\n",
       "      <td>5371</td>\n",
       "      <td>1989</td>\n",
       "      <td>Graduation</td>\n",
       "      <td>Single</td>\n",
       "      <td>21474.0</td>\n",
       "      <td>1</td>\n",
       "      <td>0</td>\n",
       "      <td>2014-04-08</td>\n",
       "      <td>0</td>\n",
       "      <td>6</td>\n",
       "      <td>...</td>\n",
       "      <td>2</td>\n",
       "      <td>7</td>\n",
       "      <td>1</td>\n",
       "      <td>0</td>\n",
       "      <td>0</td>\n",
       "      <td>0</td>\n",
       "      <td>0</td>\n",
       "      <td>1</td>\n",
       "      <td>0</td>\n",
       "      <td>Spain</td>\n",
       "    </tr>\n",
       "  </tbody>\n",
       "</table>\n",
       "<p>5 rows × 28 columns</p>\n",
       "</div>"
      ],
      "text/plain": [
       "      ID  Year_Birth   Education Marital_Status   Income   Kidhome  Teenhome  \\\n",
       "0   1826        1970  Graduation       Divorced   84835.0        0         0   \n",
       "1      1        1961  Graduation         Single   57091.0        0         0   \n",
       "2  10476        1958  Graduation        Married   67267.0        0         1   \n",
       "3   1386        1967  Graduation       Together   32474.0        1         1   \n",
       "4   5371        1989  Graduation         Single   21474.0        1         0   \n",
       "\n",
       "  Dt_Customer  Recency  MntWines  ...  NumStorePurchases  NumWebVisitsMonth  \\\n",
       "0  2014-06-16        0       189  ...                  6                  1   \n",
       "1  2014-06-15        0       464  ...                  7                  5   \n",
       "2  2014-05-13        0       134  ...                  5                  2   \n",
       "3  2014-05-11        0        10  ...                  2                  7   \n",
       "4  2014-04-08        0         6  ...                  2                  7   \n",
       "\n",
       "   AcceptedCmp3  AcceptedCmp4  AcceptedCmp5  AcceptedCmp1  AcceptedCmp2  \\\n",
       "0             0             0             0             0             0   \n",
       "1             0             0             0             0             1   \n",
       "2             0             0             0             0             0   \n",
       "3             0             0             0             0             0   \n",
       "4             1             0             0             0             0   \n",
       "\n",
       "   Response  Complain    Country  \n",
       "0         1         0      Spain  \n",
       "1         1         0     Canada  \n",
       "2         0         0        USA  \n",
       "3         0         0  Australia  \n",
       "4         1         0      Spain  \n",
       "\n",
       "[5 rows x 28 columns]"
      ]
     },
     "execution_count": 3,
     "metadata": {},
     "output_type": "execute_result"
    }
   ],
   "source": [
    "## reading the dataset , which is actually consist of 28 columns\n",
    "read_df = pd.read_csv('/kaggle/input/marketing-dataset/marketing_data.csv')\n",
    "read_df.head()"
   ]
  },
  {
   "cell_type": "code",
   "execution_count": 4,
   "id": "4c158a5b",
   "metadata": {
    "execution": {
     "iopub.execute_input": "2024-07-17T14:43:24.503770Z",
     "iopub.status.busy": "2024-07-17T14:43:24.503381Z",
     "iopub.status.idle": "2024-07-17T14:43:24.522604Z",
     "shell.execute_reply": "2024-07-17T14:43:24.520990Z"
    },
    "papermill": {
     "duration": 0.032891,
     "end_time": "2024-07-17T14:43:24.525773",
     "exception": false,
     "start_time": "2024-07-17T14:43:24.492882",
     "status": "completed"
    },
    "tags": []
   },
   "outputs": [
    {
     "data": {
      "text/html": [
       "<div>\n",
       "<style scoped>\n",
       "    .dataframe tbody tr th:only-of-type {\n",
       "        vertical-align: middle;\n",
       "    }\n",
       "\n",
       "    .dataframe tbody tr th {\n",
       "        vertical-align: top;\n",
       "    }\n",
       "\n",
       "    .dataframe thead th {\n",
       "        text-align: right;\n",
       "    }\n",
       "</style>\n",
       "<table border=\"1\" class=\"dataframe\">\n",
       "  <thead>\n",
       "    <tr style=\"text-align: right;\">\n",
       "      <th></th>\n",
       "      <th>Field</th>\n",
       "      <th>Description</th>\n",
       "    </tr>\n",
       "  </thead>\n",
       "  <tbody>\n",
       "    <tr>\n",
       "      <th>0</th>\n",
       "      <td>ID</td>\n",
       "      <td>Customer's unique identifier</td>\n",
       "    </tr>\n",
       "    <tr>\n",
       "      <th>1</th>\n",
       "      <td>Year_Birth</td>\n",
       "      <td>Customer's birth year</td>\n",
       "    </tr>\n",
       "    <tr>\n",
       "      <th>2</th>\n",
       "      <td>Education</td>\n",
       "      <td>Customer's education level</td>\n",
       "    </tr>\n",
       "    <tr>\n",
       "      <th>3</th>\n",
       "      <td>Marital_Status</td>\n",
       "      <td>Customer's marital status</td>\n",
       "    </tr>\n",
       "    <tr>\n",
       "      <th>4</th>\n",
       "      <td>Income</td>\n",
       "      <td>Customer's yearly household income</td>\n",
       "    </tr>\n",
       "    <tr>\n",
       "      <th>5</th>\n",
       "      <td>Kidhome</td>\n",
       "      <td>Number of children in customer's household</td>\n",
       "    </tr>\n",
       "    <tr>\n",
       "      <th>6</th>\n",
       "      <td>Teenhome</td>\n",
       "      <td>Number of teenagers in customer's household</td>\n",
       "    </tr>\n",
       "    <tr>\n",
       "      <th>7</th>\n",
       "      <td>Dt_Customer</td>\n",
       "      <td>Date of customer's enrollment with the company</td>\n",
       "    </tr>\n",
       "    <tr>\n",
       "      <th>8</th>\n",
       "      <td>Recency</td>\n",
       "      <td>Number of days since customer's last purchase</td>\n",
       "    </tr>\n",
       "    <tr>\n",
       "      <th>9</th>\n",
       "      <td>MntWines</td>\n",
       "      <td>Amount spent on wine in the last 2 years</td>\n",
       "    </tr>\n",
       "    <tr>\n",
       "      <th>10</th>\n",
       "      <td>MntFruits</td>\n",
       "      <td>Amount spent on fruits in the last 2 years</td>\n",
       "    </tr>\n",
       "    <tr>\n",
       "      <th>11</th>\n",
       "      <td>MntMeatProducts</td>\n",
       "      <td>Amount spent on meat in the last 2 years</td>\n",
       "    </tr>\n",
       "    <tr>\n",
       "      <th>12</th>\n",
       "      <td>MntFishProducts</td>\n",
       "      <td>Amount spent on fish in the last 2 years</td>\n",
       "    </tr>\n",
       "    <tr>\n",
       "      <th>13</th>\n",
       "      <td>MntSweetProducts</td>\n",
       "      <td>Amount spent on sweets in the last 2 years</td>\n",
       "    </tr>\n",
       "    <tr>\n",
       "      <th>14</th>\n",
       "      <td>MntGoldProds</td>\n",
       "      <td>Amount spent on gold in the last 2 years</td>\n",
       "    </tr>\n",
       "    <tr>\n",
       "      <th>15</th>\n",
       "      <td>NumDealsPurchases</td>\n",
       "      <td>Number of purchases made with a discount</td>\n",
       "    </tr>\n",
       "    <tr>\n",
       "      <th>16</th>\n",
       "      <td>NumWebPurchases</td>\n",
       "      <td>Number of purchases made through the company's...</td>\n",
       "    </tr>\n",
       "    <tr>\n",
       "      <th>17</th>\n",
       "      <td>NumCatalogPurchases</td>\n",
       "      <td>Number of purchases made using a catalogue</td>\n",
       "    </tr>\n",
       "    <tr>\n",
       "      <th>18</th>\n",
       "      <td>NumStorePurchases</td>\n",
       "      <td>Number of purchases made directly in stores</td>\n",
       "    </tr>\n",
       "    <tr>\n",
       "      <th>19</th>\n",
       "      <td>NumWebVisitsMonth</td>\n",
       "      <td>Number of visits to company's web site in the ...</td>\n",
       "    </tr>\n",
       "    <tr>\n",
       "      <th>20</th>\n",
       "      <td>AcceptedCmp3</td>\n",
       "      <td>1 if customer accepted the offer in the 3rd ca...</td>\n",
       "    </tr>\n",
       "    <tr>\n",
       "      <th>21</th>\n",
       "      <td>AcceptedCmp4</td>\n",
       "      <td>1 if customer accepted the offer in the 4th ca...</td>\n",
       "    </tr>\n",
       "    <tr>\n",
       "      <th>22</th>\n",
       "      <td>AcceptedCmp5</td>\n",
       "      <td>1 if customer accepted the offer in the 5th ca...</td>\n",
       "    </tr>\n",
       "    <tr>\n",
       "      <th>23</th>\n",
       "      <td>AcceptedCmp1</td>\n",
       "      <td>1 if customer accepted the offer in the 1st ca...</td>\n",
       "    </tr>\n",
       "    <tr>\n",
       "      <th>24</th>\n",
       "      <td>AcceptedCmp2</td>\n",
       "      <td>1 if customer accepted the offer in the 2nd ca...</td>\n",
       "    </tr>\n",
       "    <tr>\n",
       "      <th>25</th>\n",
       "      <td>Response</td>\n",
       "      <td>1 if customer accepted the offer in the last c...</td>\n",
       "    </tr>\n",
       "    <tr>\n",
       "      <th>26</th>\n",
       "      <td>Complain</td>\n",
       "      <td>1 if customer complained in the last 2 years, ...</td>\n",
       "    </tr>\n",
       "    <tr>\n",
       "      <th>27</th>\n",
       "      <td>Country</td>\n",
       "      <td>Customer's location</td>\n",
       "    </tr>\n",
       "  </tbody>\n",
       "</table>\n",
       "</div>"
      ],
      "text/plain": [
       "                  Field                                        Description\n",
       "0                    ID                       Customer's unique identifier\n",
       "1            Year_Birth                              Customer's birth year\n",
       "2             Education                         Customer's education level\n",
       "3        Marital_Status                          Customer's marital status\n",
       "4               Income                  Customer's yearly household income\n",
       "5               Kidhome         Number of children in customer's household\n",
       "6              Teenhome        Number of teenagers in customer's household\n",
       "7           Dt_Customer     Date of customer's enrollment with the company\n",
       "8               Recency      Number of days since customer's last purchase\n",
       "9              MntWines           Amount spent on wine in the last 2 years\n",
       "10            MntFruits         Amount spent on fruits in the last 2 years\n",
       "11      MntMeatProducts           Amount spent on meat in the last 2 years\n",
       "12      MntFishProducts           Amount spent on fish in the last 2 years\n",
       "13     MntSweetProducts         Amount spent on sweets in the last 2 years\n",
       "14         MntGoldProds           Amount spent on gold in the last 2 years\n",
       "15    NumDealsPurchases           Number of purchases made with a discount\n",
       "16      NumWebPurchases  Number of purchases made through the company's...\n",
       "17  NumCatalogPurchases         Number of purchases made using a catalogue\n",
       "18    NumStorePurchases        Number of purchases made directly in stores\n",
       "19    NumWebVisitsMonth  Number of visits to company's web site in the ...\n",
       "20         AcceptedCmp3  1 if customer accepted the offer in the 3rd ca...\n",
       "21         AcceptedCmp4  1 if customer accepted the offer in the 4th ca...\n",
       "22         AcceptedCmp5  1 if customer accepted the offer in the 5th ca...\n",
       "23         AcceptedCmp1  1 if customer accepted the offer in the 1st ca...\n",
       "24         AcceptedCmp2  1 if customer accepted the offer in the 2nd ca...\n",
       "25             Response  1 if customer accepted the offer in the last c...\n",
       "26             Complain  1 if customer complained in the last 2 years, ...\n",
       "27              Country                                Customer's location"
      ]
     },
     "execution_count": 4,
     "metadata": {},
     "output_type": "execute_result"
    }
   ],
   "source": [
    "## loading the data dict\n",
    "dict_file = pd.read_csv('/kaggle/input/marketing-dataset/marketing_data_dictionary.csv')\n",
    "dict_file"
   ]
  },
  {
   "cell_type": "code",
   "execution_count": 5,
   "id": "4cf4adda",
   "metadata": {
    "execution": {
     "iopub.execute_input": "2024-07-17T14:43:24.548515Z",
     "iopub.status.busy": "2024-07-17T14:43:24.548096Z",
     "iopub.status.idle": "2024-07-17T14:43:24.558818Z",
     "shell.execute_reply": "2024-07-17T14:43:24.557028Z"
    },
    "papermill": {
     "duration": 0.02645,
     "end_time": "2024-07-17T14:43:24.561801",
     "exception": false,
     "start_time": "2024-07-17T14:43:24.535351",
     "status": "completed"
    },
    "tags": []
   },
   "outputs": [
    {
     "data": {
      "text/plain": [
       "Index(['ID', 'Year_Birth', 'Education', 'Marital_Status', ' Income ',\n",
       "       'Kidhome', 'Teenhome', 'Dt_Customer', 'Recency', 'MntWines',\n",
       "       'MntFruits', 'MntMeatProducts', 'MntFishProducts', 'MntSweetProducts',\n",
       "       'MntGoldProds', 'NumDealsPurchases', 'NumWebPurchases',\n",
       "       'NumCatalogPurchases', 'NumStorePurchases', 'NumWebVisitsMonth',\n",
       "       'AcceptedCmp3', 'AcceptedCmp4', 'AcceptedCmp5', 'AcceptedCmp1',\n",
       "       'AcceptedCmp2', 'Response', 'Complain', 'Country'],\n",
       "      dtype='object')"
      ]
     },
     "execution_count": 5,
     "metadata": {},
     "output_type": "execute_result"
    }
   ],
   "source": [
    "## here we are reading the title header of the data set\n",
    "read_df.columns"
   ]
  },
  {
   "cell_type": "code",
   "execution_count": 6,
   "id": "e14490aa",
   "metadata": {
    "execution": {
     "iopub.execute_input": "2024-07-17T14:43:24.585127Z",
     "iopub.status.busy": "2024-07-17T14:43:24.584689Z",
     "iopub.status.idle": "2024-07-17T14:43:24.593574Z",
     "shell.execute_reply": "2024-07-17T14:43:24.592462Z"
    },
    "papermill": {
     "duration": 0.023448,
     "end_time": "2024-07-17T14:43:24.596029",
     "exception": false,
     "start_time": "2024-07-17T14:43:24.572581",
     "status": "completed"
    },
    "tags": []
   },
   "outputs": [
    {
     "data": {
      "text/plain": [
       "Index(['ID', 'Year_Birth', 'Education', 'Marital_Status', 'Income', 'Kidhome',\n",
       "       'Teenhome', 'Dt_Customer', 'Recency', 'MntWines', 'MntFruits',\n",
       "       'MntMeatProducts', 'MntFishProducts', 'MntSweetProducts',\n",
       "       'MntGoldProds', 'NumDealsPurchases', 'NumWebPurchases',\n",
       "       'NumCatalogPurchases', 'NumStorePurchases', 'NumWebVisitsMonth',\n",
       "       'AcceptedCmp3', 'AcceptedCmp4', 'AcceptedCmp5', 'AcceptedCmp1',\n",
       "       'AcceptedCmp2', 'Response', 'Complain', 'Country'],\n",
       "      dtype='object')"
      ]
     },
     "execution_count": 6,
     "metadata": {},
     "output_type": "execute_result"
    }
   ],
   "source": [
    "## actually there contains the white space between the column header ' Income '.For not facing any issue further we are renaming it with rename function\n",
    "read_df.rename(columns = {' Income ': 'Income'}, inplace = True)\n",
    "read_df.columns"
   ]
  },
  {
   "cell_type": "code",
   "execution_count": 7,
   "id": "3c831b04",
   "metadata": {
    "execution": {
     "iopub.execute_input": "2024-07-17T14:43:24.618628Z",
     "iopub.status.busy": "2024-07-17T14:43:24.618240Z",
     "iopub.status.idle": "2024-07-17T14:43:24.691037Z",
     "shell.execute_reply": "2024-07-17T14:43:24.690000Z"
    },
    "papermill": {
     "duration": 0.086182,
     "end_time": "2024-07-17T14:43:24.693427",
     "exception": false,
     "start_time": "2024-07-17T14:43:24.607245",
     "status": "completed"
    },
    "tags": []
   },
   "outputs": [
    {
     "data": {
      "text/html": [
       "<div>\n",
       "<style scoped>\n",
       "    .dataframe tbody tr th:only-of-type {\n",
       "        vertical-align: middle;\n",
       "    }\n",
       "\n",
       "    .dataframe tbody tr th {\n",
       "        vertical-align: top;\n",
       "    }\n",
       "\n",
       "    .dataframe thead th {\n",
       "        text-align: right;\n",
       "    }\n",
       "</style>\n",
       "<table border=\"1\" class=\"dataframe\">\n",
       "  <thead>\n",
       "    <tr style=\"text-align: right;\">\n",
       "      <th></th>\n",
       "      <th>ID</th>\n",
       "      <th>Year_Birth</th>\n",
       "      <th>Income</th>\n",
       "      <th>Kidhome</th>\n",
       "      <th>Teenhome</th>\n",
       "      <th>Recency</th>\n",
       "      <th>MntWines</th>\n",
       "      <th>MntFruits</th>\n",
       "      <th>MntMeatProducts</th>\n",
       "      <th>MntFishProducts</th>\n",
       "      <th>...</th>\n",
       "      <th>NumCatalogPurchases</th>\n",
       "      <th>NumStorePurchases</th>\n",
       "      <th>NumWebVisitsMonth</th>\n",
       "      <th>AcceptedCmp3</th>\n",
       "      <th>AcceptedCmp4</th>\n",
       "      <th>AcceptedCmp5</th>\n",
       "      <th>AcceptedCmp1</th>\n",
       "      <th>AcceptedCmp2</th>\n",
       "      <th>Response</th>\n",
       "      <th>Complain</th>\n",
       "    </tr>\n",
       "  </thead>\n",
       "  <tbody>\n",
       "    <tr>\n",
       "      <th>count</th>\n",
       "      <td>2240.000000</td>\n",
       "      <td>2240.000000</td>\n",
       "      <td>2216.000000</td>\n",
       "      <td>2240.000000</td>\n",
       "      <td>2240.000000</td>\n",
       "      <td>2240.000000</td>\n",
       "      <td>2240.000000</td>\n",
       "      <td>2240.000000</td>\n",
       "      <td>2240.000000</td>\n",
       "      <td>2240.000000</td>\n",
       "      <td>...</td>\n",
       "      <td>2240.000000</td>\n",
       "      <td>2240.000000</td>\n",
       "      <td>2240.000000</td>\n",
       "      <td>2240.000000</td>\n",
       "      <td>2240.000000</td>\n",
       "      <td>2240.000000</td>\n",
       "      <td>2240.000000</td>\n",
       "      <td>2240.000000</td>\n",
       "      <td>2240.000000</td>\n",
       "      <td>2240.000000</td>\n",
       "    </tr>\n",
       "    <tr>\n",
       "      <th>mean</th>\n",
       "      <td>5592.159821</td>\n",
       "      <td>1968.805804</td>\n",
       "      <td>52247.251354</td>\n",
       "      <td>0.444196</td>\n",
       "      <td>0.506250</td>\n",
       "      <td>49.109375</td>\n",
       "      <td>303.935714</td>\n",
       "      <td>26.302232</td>\n",
       "      <td>166.950000</td>\n",
       "      <td>37.525446</td>\n",
       "      <td>...</td>\n",
       "      <td>2.662054</td>\n",
       "      <td>5.790179</td>\n",
       "      <td>5.316518</td>\n",
       "      <td>0.072768</td>\n",
       "      <td>0.074554</td>\n",
       "      <td>0.072768</td>\n",
       "      <td>0.064286</td>\n",
       "      <td>0.013393</td>\n",
       "      <td>0.149107</td>\n",
       "      <td>0.009375</td>\n",
       "    </tr>\n",
       "    <tr>\n",
       "      <th>std</th>\n",
       "      <td>3246.662198</td>\n",
       "      <td>11.984069</td>\n",
       "      <td>25173.076661</td>\n",
       "      <td>0.538398</td>\n",
       "      <td>0.544538</td>\n",
       "      <td>28.962453</td>\n",
       "      <td>336.597393</td>\n",
       "      <td>39.773434</td>\n",
       "      <td>225.715373</td>\n",
       "      <td>54.628979</td>\n",
       "      <td>...</td>\n",
       "      <td>2.923101</td>\n",
       "      <td>3.250958</td>\n",
       "      <td>2.426645</td>\n",
       "      <td>0.259813</td>\n",
       "      <td>0.262728</td>\n",
       "      <td>0.259813</td>\n",
       "      <td>0.245316</td>\n",
       "      <td>0.114976</td>\n",
       "      <td>0.356274</td>\n",
       "      <td>0.096391</td>\n",
       "    </tr>\n",
       "    <tr>\n",
       "      <th>min</th>\n",
       "      <td>0.000000</td>\n",
       "      <td>1893.000000</td>\n",
       "      <td>1730.000000</td>\n",
       "      <td>0.000000</td>\n",
       "      <td>0.000000</td>\n",
       "      <td>0.000000</td>\n",
       "      <td>0.000000</td>\n",
       "      <td>0.000000</td>\n",
       "      <td>0.000000</td>\n",
       "      <td>0.000000</td>\n",
       "      <td>...</td>\n",
       "      <td>0.000000</td>\n",
       "      <td>0.000000</td>\n",
       "      <td>0.000000</td>\n",
       "      <td>0.000000</td>\n",
       "      <td>0.000000</td>\n",
       "      <td>0.000000</td>\n",
       "      <td>0.000000</td>\n",
       "      <td>0.000000</td>\n",
       "      <td>0.000000</td>\n",
       "      <td>0.000000</td>\n",
       "    </tr>\n",
       "    <tr>\n",
       "      <th>25%</th>\n",
       "      <td>2828.250000</td>\n",
       "      <td>1959.000000</td>\n",
       "      <td>35303.000000</td>\n",
       "      <td>0.000000</td>\n",
       "      <td>0.000000</td>\n",
       "      <td>24.000000</td>\n",
       "      <td>23.750000</td>\n",
       "      <td>1.000000</td>\n",
       "      <td>16.000000</td>\n",
       "      <td>3.000000</td>\n",
       "      <td>...</td>\n",
       "      <td>0.000000</td>\n",
       "      <td>3.000000</td>\n",
       "      <td>3.000000</td>\n",
       "      <td>0.000000</td>\n",
       "      <td>0.000000</td>\n",
       "      <td>0.000000</td>\n",
       "      <td>0.000000</td>\n",
       "      <td>0.000000</td>\n",
       "      <td>0.000000</td>\n",
       "      <td>0.000000</td>\n",
       "    </tr>\n",
       "    <tr>\n",
       "      <th>50%</th>\n",
       "      <td>5458.500000</td>\n",
       "      <td>1970.000000</td>\n",
       "      <td>51381.500000</td>\n",
       "      <td>0.000000</td>\n",
       "      <td>0.000000</td>\n",
       "      <td>49.000000</td>\n",
       "      <td>173.500000</td>\n",
       "      <td>8.000000</td>\n",
       "      <td>67.000000</td>\n",
       "      <td>12.000000</td>\n",
       "      <td>...</td>\n",
       "      <td>2.000000</td>\n",
       "      <td>5.000000</td>\n",
       "      <td>6.000000</td>\n",
       "      <td>0.000000</td>\n",
       "      <td>0.000000</td>\n",
       "      <td>0.000000</td>\n",
       "      <td>0.000000</td>\n",
       "      <td>0.000000</td>\n",
       "      <td>0.000000</td>\n",
       "      <td>0.000000</td>\n",
       "    </tr>\n",
       "    <tr>\n",
       "      <th>75%</th>\n",
       "      <td>8427.750000</td>\n",
       "      <td>1977.000000</td>\n",
       "      <td>68522.000000</td>\n",
       "      <td>1.000000</td>\n",
       "      <td>1.000000</td>\n",
       "      <td>74.000000</td>\n",
       "      <td>504.250000</td>\n",
       "      <td>33.000000</td>\n",
       "      <td>232.000000</td>\n",
       "      <td>50.000000</td>\n",
       "      <td>...</td>\n",
       "      <td>4.000000</td>\n",
       "      <td>8.000000</td>\n",
       "      <td>7.000000</td>\n",
       "      <td>0.000000</td>\n",
       "      <td>0.000000</td>\n",
       "      <td>0.000000</td>\n",
       "      <td>0.000000</td>\n",
       "      <td>0.000000</td>\n",
       "      <td>0.000000</td>\n",
       "      <td>0.000000</td>\n",
       "    </tr>\n",
       "    <tr>\n",
       "      <th>max</th>\n",
       "      <td>11191.000000</td>\n",
       "      <td>1996.000000</td>\n",
       "      <td>666666.000000</td>\n",
       "      <td>2.000000</td>\n",
       "      <td>2.000000</td>\n",
       "      <td>99.000000</td>\n",
       "      <td>1493.000000</td>\n",
       "      <td>199.000000</td>\n",
       "      <td>1725.000000</td>\n",
       "      <td>259.000000</td>\n",
       "      <td>...</td>\n",
       "      <td>28.000000</td>\n",
       "      <td>13.000000</td>\n",
       "      <td>20.000000</td>\n",
       "      <td>1.000000</td>\n",
       "      <td>1.000000</td>\n",
       "      <td>1.000000</td>\n",
       "      <td>1.000000</td>\n",
       "      <td>1.000000</td>\n",
       "      <td>1.000000</td>\n",
       "      <td>1.000000</td>\n",
       "    </tr>\n",
       "  </tbody>\n",
       "</table>\n",
       "<p>8 rows × 24 columns</p>\n",
       "</div>"
      ],
      "text/plain": [
       "                 ID   Year_Birth         Income      Kidhome     Teenhome  \\\n",
       "count   2240.000000  2240.000000    2216.000000  2240.000000  2240.000000   \n",
       "mean    5592.159821  1968.805804   52247.251354     0.444196     0.506250   \n",
       "std     3246.662198    11.984069   25173.076661     0.538398     0.544538   \n",
       "min        0.000000  1893.000000    1730.000000     0.000000     0.000000   \n",
       "25%     2828.250000  1959.000000   35303.000000     0.000000     0.000000   \n",
       "50%     5458.500000  1970.000000   51381.500000     0.000000     0.000000   \n",
       "75%     8427.750000  1977.000000   68522.000000     1.000000     1.000000   \n",
       "max    11191.000000  1996.000000  666666.000000     2.000000     2.000000   \n",
       "\n",
       "           Recency     MntWines    MntFruits  MntMeatProducts  \\\n",
       "count  2240.000000  2240.000000  2240.000000      2240.000000   \n",
       "mean     49.109375   303.935714    26.302232       166.950000   \n",
       "std      28.962453   336.597393    39.773434       225.715373   \n",
       "min       0.000000     0.000000     0.000000         0.000000   \n",
       "25%      24.000000    23.750000     1.000000        16.000000   \n",
       "50%      49.000000   173.500000     8.000000        67.000000   \n",
       "75%      74.000000   504.250000    33.000000       232.000000   \n",
       "max      99.000000  1493.000000   199.000000      1725.000000   \n",
       "\n",
       "       MntFishProducts  ...  NumCatalogPurchases  NumStorePurchases  \\\n",
       "count      2240.000000  ...          2240.000000        2240.000000   \n",
       "mean         37.525446  ...             2.662054           5.790179   \n",
       "std          54.628979  ...             2.923101           3.250958   \n",
       "min           0.000000  ...             0.000000           0.000000   \n",
       "25%           3.000000  ...             0.000000           3.000000   \n",
       "50%          12.000000  ...             2.000000           5.000000   \n",
       "75%          50.000000  ...             4.000000           8.000000   \n",
       "max         259.000000  ...            28.000000          13.000000   \n",
       "\n",
       "       NumWebVisitsMonth  AcceptedCmp3  AcceptedCmp4  AcceptedCmp5  \\\n",
       "count        2240.000000   2240.000000   2240.000000   2240.000000   \n",
       "mean            5.316518      0.072768      0.074554      0.072768   \n",
       "std             2.426645      0.259813      0.262728      0.259813   \n",
       "min             0.000000      0.000000      0.000000      0.000000   \n",
       "25%             3.000000      0.000000      0.000000      0.000000   \n",
       "50%             6.000000      0.000000      0.000000      0.000000   \n",
       "75%             7.000000      0.000000      0.000000      0.000000   \n",
       "max            20.000000      1.000000      1.000000      1.000000   \n",
       "\n",
       "       AcceptedCmp1  AcceptedCmp2     Response     Complain  \n",
       "count   2240.000000   2240.000000  2240.000000  2240.000000  \n",
       "mean       0.064286      0.013393     0.149107     0.009375  \n",
       "std        0.245316      0.114976     0.356274     0.096391  \n",
       "min        0.000000      0.000000     0.000000     0.000000  \n",
       "25%        0.000000      0.000000     0.000000     0.000000  \n",
       "50%        0.000000      0.000000     0.000000     0.000000  \n",
       "75%        0.000000      0.000000     0.000000     0.000000  \n",
       "max        1.000000      1.000000     1.000000     1.000000  \n",
       "\n",
       "[8 rows x 24 columns]"
      ]
     },
     "execution_count": 7,
     "metadata": {},
     "output_type": "execute_result"
    }
   ],
   "source": [
    "#view the statistics for each of the numeric columns\n",
    "read_df.describe()"
   ]
  },
  {
   "cell_type": "code",
   "execution_count": 8,
   "id": "2d33f4c4",
   "metadata": {
    "execution": {
     "iopub.execute_input": "2024-07-17T14:43:24.716349Z",
     "iopub.status.busy": "2024-07-17T14:43:24.715811Z",
     "iopub.status.idle": "2024-07-17T14:43:24.740916Z",
     "shell.execute_reply": "2024-07-17T14:43:24.739729Z"
    },
    "papermill": {
     "duration": 0.04027,
     "end_time": "2024-07-17T14:43:24.743415",
     "exception": false,
     "start_time": "2024-07-17T14:43:24.703145",
     "status": "completed"
    },
    "tags": []
   },
   "outputs": [
    {
     "name": "stdout",
     "output_type": "stream",
     "text": [
      "<class 'pandas.core.frame.DataFrame'>\n",
      "RangeIndex: 2240 entries, 0 to 2239\n",
      "Data columns (total 28 columns):\n",
      " #   Column               Non-Null Count  Dtype  \n",
      "---  ------               --------------  -----  \n",
      " 0   ID                   2240 non-null   int64  \n",
      " 1   Year_Birth           2240 non-null   int64  \n",
      " 2   Education            2240 non-null   object \n",
      " 3   Marital_Status       2240 non-null   object \n",
      " 4   Income               2216 non-null   float64\n",
      " 5   Kidhome              2240 non-null   int64  \n",
      " 6   Teenhome             2240 non-null   int64  \n",
      " 7   Dt_Customer          2240 non-null   object \n",
      " 8   Recency              2240 non-null   int64  \n",
      " 9   MntWines             2240 non-null   int64  \n",
      " 10  MntFruits            2240 non-null   int64  \n",
      " 11  MntMeatProducts      2240 non-null   int64  \n",
      " 12  MntFishProducts      2240 non-null   int64  \n",
      " 13  MntSweetProducts     2240 non-null   int64  \n",
      " 14  MntGoldProds         2240 non-null   int64  \n",
      " 15  NumDealsPurchases    2240 non-null   int64  \n",
      " 16  NumWebPurchases      2240 non-null   int64  \n",
      " 17  NumCatalogPurchases  2240 non-null   int64  \n",
      " 18  NumStorePurchases    2240 non-null   int64  \n",
      " 19  NumWebVisitsMonth    2240 non-null   int64  \n",
      " 20  AcceptedCmp3         2240 non-null   int64  \n",
      " 21  AcceptedCmp4         2240 non-null   int64  \n",
      " 22  AcceptedCmp5         2240 non-null   int64  \n",
      " 23  AcceptedCmp1         2240 non-null   int64  \n",
      " 24  AcceptedCmp2         2240 non-null   int64  \n",
      " 25  Response             2240 non-null   int64  \n",
      " 26  Complain             2240 non-null   int64  \n",
      " 27  Country              2240 non-null   object \n",
      "dtypes: float64(1), int64(23), object(4)\n",
      "memory usage: 490.1+ KB\n"
     ]
    }
   ],
   "source": [
    "# as we can see the year_birth mean and standard deviation is in the float which is not possible, so we need to check the data type of the column\n",
    "read_df.info()"
   ]
  },
  {
   "cell_type": "markdown",
   "id": "9cda0d95",
   "metadata": {
    "papermill": {
     "duration": 0.009912,
     "end_time": "2024-07-17T14:43:24.763222",
     "exception": false,
     "start_time": "2024-07-17T14:43:24.753310",
     "status": "completed"
    },
    "tags": []
   },
   "source": [
    "# 1. Are there any null values or outliers? How will you handle them?****"
   ]
  },
  {
   "cell_type": "markdown",
   "id": "e50db506",
   "metadata": {
    "papermill": {
     "duration": 0.009455,
     "end_time": "2024-07-17T14:43:24.782689",
     "exception": false,
     "start_time": "2024-07-17T14:43:24.773234",
     "status": "completed"
    },
    "tags": []
   },
   "source": [
    "### searching for the null values"
   ]
  },
  {
   "cell_type": "code",
   "execution_count": 9,
   "id": "2e5dfdbc",
   "metadata": {
    "execution": {
     "iopub.execute_input": "2024-07-17T14:43:24.803735Z",
     "iopub.status.busy": "2024-07-17T14:43:24.803318Z",
     "iopub.status.idle": "2024-07-17T14:43:24.813123Z",
     "shell.execute_reply": "2024-07-17T14:43:24.812049Z"
    },
    "papermill": {
     "duration": 0.02292,
     "end_time": "2024-07-17T14:43:24.815361",
     "exception": false,
     "start_time": "2024-07-17T14:43:24.792441",
     "status": "completed"
    },
    "tags": []
   },
   "outputs": [
    {
     "data": {
      "text/plain": [
       "ID                      0\n",
       "Year_Birth              0\n",
       "Education               0\n",
       "Marital_Status          0\n",
       "Income                 24\n",
       "Kidhome                 0\n",
       "Teenhome                0\n",
       "Dt_Customer             0\n",
       "Recency                 0\n",
       "MntWines                0\n",
       "MntFruits               0\n",
       "MntMeatProducts         0\n",
       "MntFishProducts         0\n",
       "MntSweetProducts        0\n",
       "MntGoldProds            0\n",
       "NumDealsPurchases       0\n",
       "NumWebPurchases         0\n",
       "NumCatalogPurchases     0\n",
       "NumStorePurchases       0\n",
       "NumWebVisitsMonth       0\n",
       "AcceptedCmp3            0\n",
       "AcceptedCmp4            0\n",
       "AcceptedCmp5            0\n",
       "AcceptedCmp1            0\n",
       "AcceptedCmp2            0\n",
       "Response                0\n",
       "Complain                0\n",
       "Country                 0\n",
       "dtype: int64"
      ]
     },
     "execution_count": 9,
     "metadata": {},
     "output_type": "execute_result"
    }
   ],
   "source": [
    "read_df.isnull().sum()"
   ]
  },
  {
   "cell_type": "markdown",
   "id": "32300d71",
   "metadata": {
    "papermill": {
     "duration": 0.009949,
     "end_time": "2024-07-17T14:43:24.835752",
     "exception": false,
     "start_time": "2024-07-17T14:43:24.825803",
     "status": "completed"
    },
    "tags": []
   },
   "source": [
    "##### There are 24 null values in the income column. Since that is less than 1% of the data we can drop them."
   ]
  },
  {
   "cell_type": "markdown",
   "id": "e251fc95",
   "metadata": {
    "papermill": {
     "duration": 0.010475,
     "end_time": "2024-07-17T14:43:24.856467",
     "exception": false,
     "start_time": "2024-07-17T14:43:24.845992",
     "status": "completed"
    },
    "tags": []
   },
   "source": [
    "### Handling Outliers"
   ]
  },
  {
   "cell_type": "markdown",
   "id": "c26297d2",
   "metadata": {
    "papermill": {
     "duration": 0.009445,
     "end_time": "2024-07-17T14:43:24.875875",
     "exception": false,
     "start_time": "2024-07-17T14:43:24.866430",
     "status": "completed"
    },
    "tags": []
   },
   "source": [
    " An outlier is an observation that lies an abnormal distance from other values in a random sample from a population."
   ]
  },
  {
   "cell_type": "code",
   "execution_count": 10,
   "id": "ce13306e",
   "metadata": {
    "execution": {
     "iopub.execute_input": "2024-07-17T14:43:24.897269Z",
     "iopub.status.busy": "2024-07-17T14:43:24.896884Z",
     "iopub.status.idle": "2024-07-17T14:43:25.383546Z",
     "shell.execute_reply": "2024-07-17T14:43:25.382257Z"
    },
    "papermill": {
     "duration": 0.500483,
     "end_time": "2024-07-17T14:43:25.386294",
     "exception": false,
     "start_time": "2024-07-17T14:43:24.885811",
     "status": "completed"
    },
    "tags": []
   },
   "outputs": [
    {
     "name": "stderr",
     "output_type": "stream",
     "text": [
      "/opt/conda/lib/python3.10/site-packages/seaborn/_oldcore.py:1119: FutureWarning: use_inf_as_na option is deprecated and will be removed in a future version. Convert inf values to NaN before operating instead.\n",
      "  with pd.option_context('mode.use_inf_as_na', True):\n"
     ]
    },
    {
     "data": {
      "image/png": "[encoded data removed]",
      "text/plain": [
       "<Figure size 640x480 with 1 Axes>"
      ]
     },
     "metadata": {},
     "output_type": "display_data"
    }
   ],
   "source": [
    "sns.histplot(data = read_df, x = 'Income')\n",
    "plt.show()\n",
    "#histogram are particularly useful for exploring continuous data, such as numerical measurements or sensor readings."
   ]
  },
  {
   "cell_type": "markdown",
   "id": "fbd4c1a9",
   "metadata": {
    "papermill": {
     "duration": 0.010523,
     "end_time": "2024-07-17T14:43:25.407682",
     "exception": false,
     "start_time": "2024-07-17T14:43:25.397159",
     "status": "completed"
    },
    "tags": []
   },
   "source": [
    "#### From the above histrogram, we can see that the income ranges between 0 to 200000. However there seems to be an outlier which may be due to any entry error. Let's remove that data value for our analysis."
   ]
  },
  {
   "cell_type": "code",
   "execution_count": 11,
   "id": "9858af43",
   "metadata": {
    "execution": {
     "iopub.execute_input": "2024-07-17T14:43:25.431763Z",
     "iopub.status.busy": "2024-07-17T14:43:25.431376Z",
     "iopub.status.idle": "2024-07-17T14:43:25.458311Z",
     "shell.execute_reply": "2024-07-17T14:43:25.457175Z"
    },
    "papermill": {
     "duration": 0.041873,
     "end_time": "2024-07-17T14:43:25.460778",
     "exception": false,
     "start_time": "2024-07-17T14:43:25.418905",
     "status": "completed"
    },
    "tags": []
   },
   "outputs": [
    {
     "data": {
      "text/html": [
       "<div>\n",
       "<style scoped>\n",
       "    .dataframe tbody tr th:only-of-type {\n",
       "        vertical-align: middle;\n",
       "    }\n",
       "\n",
       "    .dataframe tbody tr th {\n",
       "        vertical-align: top;\n",
       "    }\n",
       "\n",
       "    .dataframe thead th {\n",
       "        text-align: right;\n",
       "    }\n",
       "</style>\n",
       "<table border=\"1\" class=\"dataframe\">\n",
       "  <thead>\n",
       "    <tr style=\"text-align: right;\">\n",
       "      <th></th>\n",
       "      <th>ID</th>\n",
       "      <th>Year_Birth</th>\n",
       "      <th>Education</th>\n",
       "      <th>Marital_Status</th>\n",
       "      <th>Income</th>\n",
       "      <th>Kidhome</th>\n",
       "      <th>Teenhome</th>\n",
       "      <th>Dt_Customer</th>\n",
       "      <th>Recency</th>\n",
       "      <th>MntWines</th>\n",
       "      <th>...</th>\n",
       "      <th>NumStorePurchases</th>\n",
       "      <th>NumWebVisitsMonth</th>\n",
       "      <th>AcceptedCmp3</th>\n",
       "      <th>AcceptedCmp4</th>\n",
       "      <th>AcceptedCmp5</th>\n",
       "      <th>AcceptedCmp1</th>\n",
       "      <th>AcceptedCmp2</th>\n",
       "      <th>Response</th>\n",
       "      <th>Complain</th>\n",
       "      <th>Country</th>\n",
       "    </tr>\n",
       "  </thead>\n",
       "  <tbody>\n",
       "    <tr>\n",
       "      <th>527</th>\n",
       "      <td>9432</td>\n",
       "      <td>1977</td>\n",
       "      <td>Graduation</td>\n",
       "      <td>Together</td>\n",
       "      <td>666666.0</td>\n",
       "      <td>1</td>\n",
       "      <td>0</td>\n",
       "      <td>2013-06-02</td>\n",
       "      <td>23</td>\n",
       "      <td>9</td>\n",
       "      <td>...</td>\n",
       "      <td>3</td>\n",
       "      <td>6</td>\n",
       "      <td>0</td>\n",
       "      <td>0</td>\n",
       "      <td>0</td>\n",
       "      <td>0</td>\n",
       "      <td>0</td>\n",
       "      <td>0</td>\n",
       "      <td>0</td>\n",
       "      <td>Saudi Arabia</td>\n",
       "    </tr>\n",
       "    <tr>\n",
       "      <th>731</th>\n",
       "      <td>1503</td>\n",
       "      <td>1976</td>\n",
       "      <td>PhD</td>\n",
       "      <td>Together</td>\n",
       "      <td>162397.0</td>\n",
       "      <td>1</td>\n",
       "      <td>1</td>\n",
       "      <td>2013-06-03</td>\n",
       "      <td>31</td>\n",
       "      <td>85</td>\n",
       "      <td>...</td>\n",
       "      <td>1</td>\n",
       "      <td>1</td>\n",
       "      <td>0</td>\n",
       "      <td>0</td>\n",
       "      <td>0</td>\n",
       "      <td>0</td>\n",
       "      <td>0</td>\n",
       "      <td>0</td>\n",
       "      <td>0</td>\n",
       "      <td>Spain</td>\n",
       "    </tr>\n",
       "    <tr>\n",
       "      <th>497</th>\n",
       "      <td>1501</td>\n",
       "      <td>1982</td>\n",
       "      <td>PhD</td>\n",
       "      <td>Married</td>\n",
       "      <td>160803.0</td>\n",
       "      <td>0</td>\n",
       "      <td>0</td>\n",
       "      <td>2012-08-04</td>\n",
       "      <td>21</td>\n",
       "      <td>55</td>\n",
       "      <td>...</td>\n",
       "      <td>1</td>\n",
       "      <td>0</td>\n",
       "      <td>0</td>\n",
       "      <td>0</td>\n",
       "      <td>0</td>\n",
       "      <td>0</td>\n",
       "      <td>0</td>\n",
       "      <td>0</td>\n",
       "      <td>0</td>\n",
       "      <td>USA</td>\n",
       "    </tr>\n",
       "    <tr>\n",
       "      <th>853</th>\n",
       "      <td>5336</td>\n",
       "      <td>1971</td>\n",
       "      <td>Master</td>\n",
       "      <td>Together</td>\n",
       "      <td>157733.0</td>\n",
       "      <td>1</td>\n",
       "      <td>0</td>\n",
       "      <td>2013-06-04</td>\n",
       "      <td>37</td>\n",
       "      <td>39</td>\n",
       "      <td>...</td>\n",
       "      <td>1</td>\n",
       "      <td>1</td>\n",
       "      <td>0</td>\n",
       "      <td>0</td>\n",
       "      <td>0</td>\n",
       "      <td>0</td>\n",
       "      <td>0</td>\n",
       "      <td>0</td>\n",
       "      <td>0</td>\n",
       "      <td>Spain</td>\n",
       "    </tr>\n",
       "    <tr>\n",
       "      <th>2204</th>\n",
       "      <td>8475</td>\n",
       "      <td>1973</td>\n",
       "      <td>PhD</td>\n",
       "      <td>Married</td>\n",
       "      <td>157243.0</td>\n",
       "      <td>0</td>\n",
       "      <td>1</td>\n",
       "      <td>2014-03-01</td>\n",
       "      <td>98</td>\n",
       "      <td>20</td>\n",
       "      <td>...</td>\n",
       "      <td>0</td>\n",
       "      <td>0</td>\n",
       "      <td>0</td>\n",
       "      <td>0</td>\n",
       "      <td>0</td>\n",
       "      <td>0</td>\n",
       "      <td>0</td>\n",
       "      <td>0</td>\n",
       "      <td>0</td>\n",
       "      <td>India</td>\n",
       "    </tr>\n",
       "    <tr>\n",
       "      <th>...</th>\n",
       "      <td>...</td>\n",
       "      <td>...</td>\n",
       "      <td>...</td>\n",
       "      <td>...</td>\n",
       "      <td>...</td>\n",
       "      <td>...</td>\n",
       "      <td>...</td>\n",
       "      <td>...</td>\n",
       "      <td>...</td>\n",
       "      <td>...</td>\n",
       "      <td>...</td>\n",
       "      <td>...</td>\n",
       "      <td>...</td>\n",
       "      <td>...</td>\n",
       "      <td>...</td>\n",
       "      <td>...</td>\n",
       "      <td>...</td>\n",
       "      <td>...</td>\n",
       "      <td>...</td>\n",
       "      <td>...</td>\n",
       "      <td>...</td>\n",
       "    </tr>\n",
       "    <tr>\n",
       "      <th>1967</th>\n",
       "      <td>5798</td>\n",
       "      <td>1973</td>\n",
       "      <td>Master</td>\n",
       "      <td>Together</td>\n",
       "      <td>NaN</td>\n",
       "      <td>0</td>\n",
       "      <td>0</td>\n",
       "      <td>2013-11-23</td>\n",
       "      <td>87</td>\n",
       "      <td>445</td>\n",
       "      <td>...</td>\n",
       "      <td>8</td>\n",
       "      <td>1</td>\n",
       "      <td>0</td>\n",
       "      <td>0</td>\n",
       "      <td>0</td>\n",
       "      <td>0</td>\n",
       "      <td>0</td>\n",
       "      <td>0</td>\n",
       "      <td>0</td>\n",
       "      <td>Germany</td>\n",
       "    </tr>\n",
       "    <tr>\n",
       "      <th>1983</th>\n",
       "      <td>2902</td>\n",
       "      <td>1958</td>\n",
       "      <td>Graduation</td>\n",
       "      <td>Together</td>\n",
       "      <td>NaN</td>\n",
       "      <td>1</td>\n",
       "      <td>1</td>\n",
       "      <td>2012-09-03</td>\n",
       "      <td>87</td>\n",
       "      <td>19</td>\n",
       "      <td>...</td>\n",
       "      <td>3</td>\n",
       "      <td>5</td>\n",
       "      <td>0</td>\n",
       "      <td>0</td>\n",
       "      <td>0</td>\n",
       "      <td>0</td>\n",
       "      <td>0</td>\n",
       "      <td>0</td>\n",
       "      <td>0</td>\n",
       "      <td>Australia</td>\n",
       "    </tr>\n",
       "    <tr>\n",
       "      <th>2139</th>\n",
       "      <td>3117</td>\n",
       "      <td>1955</td>\n",
       "      <td>Graduation</td>\n",
       "      <td>Single</td>\n",
       "      <td>NaN</td>\n",
       "      <td>0</td>\n",
       "      <td>1</td>\n",
       "      <td>2013-10-18</td>\n",
       "      <td>95</td>\n",
       "      <td>264</td>\n",
       "      <td>...</td>\n",
       "      <td>5</td>\n",
       "      <td>7</td>\n",
       "      <td>0</td>\n",
       "      <td>0</td>\n",
       "      <td>0</td>\n",
       "      <td>0</td>\n",
       "      <td>0</td>\n",
       "      <td>0</td>\n",
       "      <td>0</td>\n",
       "      <td>Australia</td>\n",
       "    </tr>\n",
       "    <tr>\n",
       "      <th>2165</th>\n",
       "      <td>7244</td>\n",
       "      <td>1951</td>\n",
       "      <td>Graduation</td>\n",
       "      <td>Single</td>\n",
       "      <td>NaN</td>\n",
       "      <td>2</td>\n",
       "      <td>1</td>\n",
       "      <td>2014-01-01</td>\n",
       "      <td>96</td>\n",
       "      <td>48</td>\n",
       "      <td>...</td>\n",
       "      <td>4</td>\n",
       "      <td>6</td>\n",
       "      <td>0</td>\n",
       "      <td>0</td>\n",
       "      <td>0</td>\n",
       "      <td>0</td>\n",
       "      <td>0</td>\n",
       "      <td>0</td>\n",
       "      <td>0</td>\n",
       "      <td>Australia</td>\n",
       "    </tr>\n",
       "    <tr>\n",
       "      <th>2170</th>\n",
       "      <td>1295</td>\n",
       "      <td>1963</td>\n",
       "      <td>Graduation</td>\n",
       "      <td>Married</td>\n",
       "      <td>NaN</td>\n",
       "      <td>0</td>\n",
       "      <td>1</td>\n",
       "      <td>2013-08-11</td>\n",
       "      <td>96</td>\n",
       "      <td>231</td>\n",
       "      <td>...</td>\n",
       "      <td>7</td>\n",
       "      <td>4</td>\n",
       "      <td>0</td>\n",
       "      <td>0</td>\n",
       "      <td>0</td>\n",
       "      <td>0</td>\n",
       "      <td>0</td>\n",
       "      <td>0</td>\n",
       "      <td>0</td>\n",
       "      <td>Canada</td>\n",
       "    </tr>\n",
       "  </tbody>\n",
       "</table>\n",
       "<p>2240 rows × 28 columns</p>\n",
       "</div>"
      ],
      "text/plain": [
       "        ID  Year_Birth   Education Marital_Status    Income  Kidhome  \\\n",
       "527   9432        1977  Graduation       Together  666666.0        1   \n",
       "731   1503        1976         PhD       Together  162397.0        1   \n",
       "497   1501        1982         PhD        Married  160803.0        0   \n",
       "853   5336        1971      Master       Together  157733.0        1   \n",
       "2204  8475        1973         PhD        Married  157243.0        0   \n",
       "...    ...         ...         ...            ...       ...      ...   \n",
       "1967  5798        1973      Master       Together       NaN        0   \n",
       "1983  2902        1958  Graduation       Together       NaN        1   \n",
       "2139  3117        1955  Graduation         Single       NaN        0   \n",
       "2165  7244        1951  Graduation         Single       NaN        2   \n",
       "2170  1295        1963  Graduation        Married       NaN        0   \n",
       "\n",
       "      Teenhome Dt_Customer  Recency  MntWines  ...  NumStorePurchases  \\\n",
       "527          0  2013-06-02       23         9  ...                  3   \n",
       "731          1  2013-06-03       31        85  ...                  1   \n",
       "497          0  2012-08-04       21        55  ...                  1   \n",
       "853          0  2013-06-04       37        39  ...                  1   \n",
       "2204         1  2014-03-01       98        20  ...                  0   \n",
       "...        ...         ...      ...       ...  ...                ...   \n",
       "1967         0  2013-11-23       87       445  ...                  8   \n",
       "1983         1  2012-09-03       87        19  ...                  3   \n",
       "2139         1  2013-10-18       95       264  ...                  5   \n",
       "2165         1  2014-01-01       96        48  ...                  4   \n",
       "2170         1  2013-08-11       96       231  ...                  7   \n",
       "\n",
       "      NumWebVisitsMonth  AcceptedCmp3  AcceptedCmp4  AcceptedCmp5  \\\n",
       "527                   6             0             0             0   \n",
       "731                   1             0             0             0   \n",
       "497                   0             0             0             0   \n",
       "853                   1             0             0             0   \n",
       "2204                  0             0             0             0   \n",
       "...                 ...           ...           ...           ...   \n",
       "1967                  1             0             0             0   \n",
       "1983                  5             0             0             0   \n",
       "2139                  7             0             0             0   \n",
       "2165                  6             0             0             0   \n",
       "2170                  4             0             0             0   \n",
       "\n",
       "      AcceptedCmp1  AcceptedCmp2  Response  Complain       Country  \n",
       "527              0             0         0         0  Saudi Arabia  \n",
       "731              0             0         0         0         Spain  \n",
       "497              0             0         0         0           USA  \n",
       "853              0             0         0         0         Spain  \n",
       "2204             0             0         0         0         India  \n",
       "...            ...           ...       ...       ...           ...  \n",
       "1967             0             0         0         0       Germany  \n",
       "1983             0             0         0         0     Australia  \n",
       "2139             0             0         0         0     Australia  \n",
       "2165             0             0         0         0     Australia  \n",
       "2170             0             0         0         0        Canada  \n",
       "\n",
       "[2240 rows x 28 columns]"
      ]
     },
     "execution_count": 11,
     "metadata": {},
     "output_type": "execute_result"
    }
   ],
   "source": [
    "# lets sort the data to see the outlier\n",
    "read_df.sort_values(\n",
    "     by=\"Income\",\n",
    "     ascending=False )"
   ]
  },
  {
   "cell_type": "markdown",
   "id": "ef01afd5",
   "metadata": {
    "papermill": {
     "duration": 0.010329,
     "end_time": "2024-07-17T14:43:25.481984",
     "exception": false,
     "start_time": "2024-07-17T14:43:25.471655",
     "status": "completed"
    },
    "tags": []
   },
   "source": [
    "#### we sorted the data in decending order and there is huge difference highest income that is 6,66,666 and second highest income 1,62,397. From this we calculate the outlier"
   ]
  },
  {
   "cell_type": "code",
   "execution_count": 12,
   "id": "56f9eae7",
   "metadata": {
    "execution": {
     "iopub.execute_input": "2024-07-17T14:43:25.505891Z",
     "iopub.status.busy": "2024-07-17T14:43:25.505460Z",
     "iopub.status.idle": "2024-07-17T14:43:25.698223Z",
     "shell.execute_reply": "2024-07-17T14:43:25.696982Z"
    },
    "papermill": {
     "duration": 0.207941,
     "end_time": "2024-07-17T14:43:25.700699",
     "exception": false,
     "start_time": "2024-07-17T14:43:25.492758",
     "status": "completed"
    },
    "tags": []
   },
   "outputs": [
    {
     "data": {
      "image/png": "[encoded data removed]",
      "text/plain": [
       "<Figure size 640x480 with 1 Axes>"
      ]
     },
     "metadata": {},
     "output_type": "display_data"
    }
   ],
   "source": [
    "# Let's consider values more than 2,00,000 as outlier and remove those values\n",
    "read_df = read_df[read_df['Income'] <= 200000]\n",
    "# Now view the distribution of income using box plot\n",
    "sns.boxplot(data = read_df, x = 'Income')\n",
    "plt.show()"
   ]
  },
  {
   "cell_type": "code",
   "execution_count": 13,
   "id": "c3f215b2",
   "metadata": {
    "execution": {
     "iopub.execute_input": "2024-07-17T14:43:25.726869Z",
     "iopub.status.busy": "2024-07-17T14:43:25.726432Z",
     "iopub.status.idle": "2024-07-17T14:43:26.012519Z",
     "shell.execute_reply": "2024-07-17T14:43:26.011448Z"
    },
    "papermill": {
     "duration": 0.302221,
     "end_time": "2024-07-17T14:43:26.014962",
     "exception": false,
     "start_time": "2024-07-17T14:43:25.712741",
     "status": "completed"
    },
    "tags": []
   },
   "outputs": [
    {
     "name": "stderr",
     "output_type": "stream",
     "text": [
      "/opt/conda/lib/python3.10/site-packages/seaborn/_oldcore.py:1119: FutureWarning: use_inf_as_na option is deprecated and will be removed in a future version. Convert inf values to NaN before operating instead.\n",
      "  with pd.option_context('mode.use_inf_as_na', True):\n"
     ]
    },
    {
     "data": {
      "image/png": "[encoded data removed]",
      "text/plain": [
       "<Figure size 640x480 with 1 Axes>"
      ]
     },
     "metadata": {},
     "output_type": "display_data"
    }
   ],
   "source": [
    "#create age column using 2014 year as that is the most recent enrollment date\n",
    "read_df['Age'] = 2014 - read_df['Year_Birth']\n",
    "# Let's check the age distribution using histogram plot\n",
    "sns.histplot(data = read_df, x = 'Age')\n",
    "plt.show()"
   ]
  },
  {
   "cell_type": "markdown",
   "id": "6c2ad01c",
   "metadata": {
    "papermill": {
     "duration": 0.010851,
     "end_time": "2024-07-17T14:43:26.037261",
     "exception": false,
     "start_time": "2024-07-17T14:43:26.026410",
     "status": "completed"
    },
    "tags": []
   },
   "source": [
    "From the above histogram we can observe that there are no outliers in the age column."
   ]
  },
  {
   "cell_type": "markdown",
   "id": "573e1557",
   "metadata": {
    "papermill": {
     "duration": 0.011165,
     "end_time": "2024-07-17T14:43:26.060698",
     "exception": false,
     "start_time": "2024-07-17T14:43:26.049533",
     "status": "completed"
    },
    "tags": []
   },
   "source": [
    "##### Add Columns Income Level and Age Group"
   ]
  },
  {
   "cell_type": "code",
   "execution_count": 14,
   "id": "e4d5f212",
   "metadata": {
    "execution": {
     "iopub.execute_input": "2024-07-17T14:43:26.087472Z",
     "iopub.status.busy": "2024-07-17T14:43:26.086576Z",
     "iopub.status.idle": "2024-07-17T14:43:26.099230Z",
     "shell.execute_reply": "2024-07-17T14:43:26.097984Z"
    },
    "papermill": {
     "duration": 0.029219,
     "end_time": "2024-07-17T14:43:26.102488",
     "exception": false,
     "start_time": "2024-07-17T14:43:26.073269",
     "status": "completed"
    },
    "tags": []
   },
   "outputs": [
    {
     "data": {
      "text/plain": [
       "0         High Income\n",
       "1       Middle Income\n",
       "2       Middle Income\n",
       "3       Middle Income\n",
       "4          Low Income\n",
       "            ...      \n",
       "2235    Middle Income\n",
       "2236    Middle Income\n",
       "2237    Middle Income\n",
       "2238    Middle Income\n",
       "2239      High Income\n",
       "Name: Income_Level, Length: 2215, dtype: object"
      ]
     },
     "execution_count": 14,
     "metadata": {},
     "output_type": "execute_result"
    }
   ],
   "source": [
    "#create a new column Income_Level using Income column\n",
    "def income_group(income):\n",
    "    if income < 30000:\n",
    "        return 'Low Income'\n",
    "    elif income >= 30000 and income < 70000:\n",
    "        return 'Middle Income'\n",
    "    else:\n",
    "        return 'High Income'\n",
    "\n",
    "read_df['Income_Level'] = read_df['Income'].apply(income_group)\n",
    "read_df['Income_Level']"
   ]
  },
  {
   "cell_type": "code",
   "execution_count": 15,
   "id": "284de340",
   "metadata": {
    "execution": {
     "iopub.execute_input": "2024-07-17T14:43:26.139164Z",
     "iopub.status.busy": "2024-07-17T14:43:26.138610Z",
     "iopub.status.idle": "2024-07-17T14:43:26.150825Z",
     "shell.execute_reply": "2024-07-17T14:43:26.149784Z"
    },
    "papermill": {
     "duration": 0.034444,
     "end_time": "2024-07-17T14:43:26.153362",
     "exception": false,
     "start_time": "2024-07-17T14:43:26.118918",
     "status": "completed"
    },
    "tags": []
   },
   "outputs": [
    {
     "data": {
      "text/plain": [
       "0       Middle\n",
       "1       Middle\n",
       "2       Middle\n",
       "3       Middle\n",
       "4        Young\n",
       "         ...  \n",
       "2235    Middle\n",
       "2236    Middle\n",
       "2237    Middle\n",
       "2238    Middle\n",
       "2239    Middle\n",
       "Name: Age_Group, Length: 2215, dtype: object"
      ]
     },
     "execution_count": 15,
     "metadata": {},
     "output_type": "execute_result"
    }
   ],
   "source": [
    "# Create a new column age group\n",
    "def age_group(age):\n",
    "    if age < 30:\n",
    "        return 'Young'\n",
    "    elif age >= 30 and age < 60:\n",
    "        return 'Middle'\n",
    "    else:\n",
    "        return 'Old'\n",
    "    \n",
    "read_df['Age_Group'] = read_df['Age'].apply(age_group)\n",
    "read_df['Age_Group']"
   ]
  },
  {
   "cell_type": "markdown",
   "id": "776c4def",
   "metadata": {
    "papermill": {
     "duration": 0.011601,
     "end_time": "2024-07-17T14:43:26.179955",
     "exception": false,
     "start_time": "2024-07-17T14:43:26.168354",
     "status": "completed"
    },
    "tags": []
   },
   "source": [
    "##### so in question 1 there are 24 null values and the outlier present in the \"Income\" column.\n",
    "##### null values are been calculated through the isnull().sum()\n",
    "##### and outliers are found by sorting the values in table or ploting them through the graphs."
   ]
  },
  {
   "cell_type": "markdown",
   "id": "efcc1a4a",
   "metadata": {
    "papermill": {
     "duration": 0.012088,
     "end_time": "2024-07-17T14:43:26.204206",
     "exception": false,
     "start_time": "2024-07-17T14:43:26.192118",
     "status": "completed"
    },
    "tags": []
   },
   "source": [
    "## 2. What factors are significantly related to the number of web purchases?"
   ]
  },
  {
   "cell_type": "code",
   "execution_count": 16,
   "id": "1db84768",
   "metadata": {
    "execution": {
     "iopub.execute_input": "2024-07-17T14:43:26.236376Z",
     "iopub.status.busy": "2024-07-17T14:43:26.235482Z",
     "iopub.status.idle": "2024-07-17T14:43:26.999898Z",
     "shell.execute_reply": "2024-07-17T14:43:26.998568Z"
    },
    "papermill": {
     "duration": 0.785576,
     "end_time": "2024-07-17T14:43:27.003289",
     "exception": false,
     "start_time": "2024-07-17T14:43:26.217713",
     "status": "completed"
    },
    "tags": []
   },
   "outputs": [
    {
     "name": "stdout",
     "output_type": "stream",
     "text": [
      "Mean Squared Error:  3.126354309021561\n",
      "R-Squared:  0.570893703400592\n",
      "                    feature      coef\n",
      "26      Marital_Status_YOLO  0.808165\n",
      "7              AcceptedCmp3  0.471539\n",
      "31           Country_Mexico  0.462776\n",
      "6         NumWebVisitsMonth  0.439704\n",
      "10             AcceptedCmp1  0.402329\n",
      "5         NumStorePurchases  0.250051\n",
      "3         NumDealsPurchases  0.206681\n",
      "2                  Teenhome  0.134482\n",
      "27        Country_Australia  0.104419\n",
      "24  Marital_Status_Together  0.103292\n",
      "18            Education_PhD  0.069179\n",
      "9              AcceptedCmp5  0.060533\n",
      "14       Education_2n Cycle  0.036902\n",
      "4       NumCatalogPurchases  0.033410\n",
      "16     Education_Graduation  0.027220\n",
      "21  Marital_Status_Divorced  0.012871\n",
      "22   Marital_Status_Married  0.010996\n",
      "23    Marital_Status_Single  0.008155\n",
      "25     Marital_Status_Widow  0.007249\n",
      "13                      Age  0.006101\n",
      "28           Country_Canada  0.003398\n",
      "0                    Income  0.000050\n",
      "30            Country_India -0.000497\n",
      "32     Country_Saudi Arabia -0.037507\n",
      "17         Education_Master -0.056161\n",
      "15          Education_Basic -0.077142\n",
      "33            Country_Spain -0.105016\n",
      "8              AcceptedCmp4 -0.155618\n",
      "34              Country_USA -0.204032\n",
      "29          Country_Germany -0.223540\n",
      "12                 Complain -0.253188\n",
      "20     Marital_Status_Alone -0.317799\n",
      "19    Marital_Status_Absurd -0.632929\n",
      "1                   Kidhome -1.036034\n",
      "11             AcceptedCmp2 -1.341006\n"
     ]
    },
    {
     "data": {
      "image/png": "[encoded data removed]",
      "text/plain": [
       "<Figure size 1000x800 with 1 Axes>"
      ]
     },
     "metadata": {},
     "output_type": "display_data"
    }
   ],
   "source": [
    "# Let's use regression model to identify factors significantly related to web purchases\n",
    "#convert categorical data to numerical data using encoding\n",
    "cat_var = pd.get_dummies(read_df, columns = ['Education', 'Marital_Status', 'Country'])\n",
    "\n",
    "# drop the irrelevant columns for this regression model X is the independent variable\n",
    "X = cat_var.drop(['ID', 'Year_Birth', 'Dt_Customer','Response', 'Recency', 'MntWines',\n",
    "       'MntFruits', 'MntMeatProducts', 'MntFishProducts', 'MntSweetProducts',\n",
    "       'MntGoldProds', 'NumWebPurchases', 'Income_Level', 'Age_Group'], axis = 1)\n",
    "\n",
    "Y = read_df['NumWebPurchases'] # Y is the dependented variable for this analysis\n",
    "# Split the data using train_test_split method\n",
    "X_train, X_test, Y_train, Y_test = train_test_split(X, Y, test_size = 0.2, random_state = 40)\n",
    "\n",
    "#create a model\n",
    "model = LinearRegression()\n",
    "\n",
    "#fit model\n",
    "model.fit(X_train, Y_train)\n",
    "\n",
    "#make prediction\n",
    "y_pred = model.predict(X_test)\n",
    "\n",
    "#evaluate performance\n",
    "mse = mean_squared_error(Y_test, y_pred)\n",
    "r2 = r2_score(Y_test, y_pred)\n",
    "print('Mean Squared Error: ', mse)\n",
    "print('R-Squared: ', r2)\n",
    "\n",
    "\n",
    "#view co-efficients\n",
    "co_eff = pd.DataFrame({'feature': X.columns, 'coef': model.coef_}).sort_values('coef', ascending = False)\n",
    "print(co_eff)\n",
    "\n",
    "#plot co-efficients\n",
    "fig, ax = plt.subplots(figsize = (10,8))\n",
    "ax.barh(co_eff['feature'], co_eff['coef'])\n",
    "plt.show()"
   ]
  },
  {
   "cell_type": "markdown",
   "id": "3e31be49",
   "metadata": {
    "papermill": {
     "duration": 0.017322,
     "end_time": "2024-07-17T14:43:27.034465",
     "exception": false,
     "start_time": "2024-07-17T14:43:27.017143",
     "status": "completed"
    },
    "tags": []
   },
   "source": [
    "#### From the above graph, we can observe the following factors that are impacting the web purchases:\n",
    "\n",
    "##### Customers who live alone tend to have high web purchases.\n",
    "##### Customers from Mexico contribute to high web purchases.\n",
    "##### Customers who have more kids at home buy less from web purchases.\n",
    "##### Customers whose marital status is absurd also tend to spend less on web purchases.\n",
    "##### Income and Age factors have no significant effect on the web purchases."
   ]
  },
  {
   "cell_type": "markdown",
   "id": "6d8e82a3",
   "metadata": {
    "papermill": {
     "duration": 0.013186,
     "end_time": "2024-07-17T14:43:27.065137",
     "exception": false,
     "start_time": "2024-07-17T14:43:27.051951",
     "status": "completed"
    },
    "tags": []
   },
   "source": [
    "## 3. Which marketing campaign was the most successful?"
   ]
  },
  {
   "cell_type": "code",
   "execution_count": 17,
   "id": "c3ac0219",
   "metadata": {
    "execution": {
     "iopub.execute_input": "2024-07-17T14:43:27.095360Z",
     "iopub.status.busy": "2024-07-17T14:43:27.094985Z",
     "iopub.status.idle": "2024-07-17T14:43:27.348078Z",
     "shell.execute_reply": "2024-07-17T14:43:27.346809Z"
    },
    "papermill": {
     "duration": 0.270887,
     "end_time": "2024-07-17T14:43:27.350803",
     "exception": false,
     "start_time": "2024-07-17T14:43:27.079916",
     "status": "completed"
    },
    "tags": []
   },
   "outputs": [
    {
     "name": "stdout",
     "output_type": "stream",
     "text": [
      "AcceptedCmp2     30\n",
      "AcceptedCmp1    142\n",
      "AcceptedCmp5    162\n",
      "AcceptedCmp3    163\n",
      "AcceptedCmp4    164\n",
      "Response        333\n",
      "dtype: int64\n"
     ]
    },
    {
     "data": {
      "image/png": "[encoded data removed]",
      "text/plain": [
       "<Figure size 640x480 with 1 Axes>"
      ]
     },
     "metadata": {},
     "output_type": "display_data"
    }
   ],
   "source": [
    "# Let's create a df with the columns of marketing campaign data\n",
    "campaign_df = read_df[['AcceptedCmp1', 'AcceptedCmp2', 'AcceptedCmp3', 'AcceptedCmp4', 'AcceptedCmp5', 'Response']]\n",
    "\n",
    "#sum up the values in each of the df and sort it \n",
    "successful_campaign = campaign_df.sum().sort_values()\n",
    "print(successful_campaign)\n",
    "\n",
    "#plot the successful campaign \n",
    "successful_campaign.plot(kind = 'bar')\n",
    "plt.show()"
   ]
  },
  {
   "cell_type": "markdown",
   "id": "3ebbbd41",
   "metadata": {
    "papermill": {
     "duration": 0.017893,
     "end_time": "2024-07-17T14:43:27.385556",
     "exception": false,
     "start_time": "2024-07-17T14:43:27.367663",
     "status": "completed"
    },
    "tags": []
   },
   "source": [
    "#### so the response is the most successful campaign and accptedcmp2 is least successful"
   ]
  },
  {
   "cell_type": "markdown",
   "id": "285887ac",
   "metadata": {
    "papermill": {
     "duration": 0.017475,
     "end_time": "2024-07-17T14:43:27.426281",
     "exception": false,
     "start_time": "2024-07-17T14:43:27.408806",
     "status": "completed"
    },
    "tags": []
   },
   "source": [
    "## 4. What does the average customer look like?"
   ]
  },
  {
   "cell_type": "code",
   "execution_count": 18,
   "id": "d431fc7c",
   "metadata": {
    "execution": {
     "iopub.execute_input": "2024-07-17T14:43:27.456148Z",
     "iopub.status.busy": "2024-07-17T14:43:27.455747Z",
     "iopub.status.idle": "2024-07-17T14:43:27.466315Z",
     "shell.execute_reply": "2024-07-17T14:43:27.465133Z"
    },
    "papermill": {
     "duration": 0.028877,
     "end_time": "2024-07-17T14:43:27.469137",
     "exception": false,
     "start_time": "2024-07-17T14:43:27.440260",
     "status": "completed"
    },
    "tags": []
   },
   "outputs": [
    {
     "name": "stdout",
     "output_type": "stream",
     "text": [
      "The average age of customers is  45.0\n",
      "The average income of customers is  51969.86\n",
      "The average family size of customers is  1.0\n",
      "The average education of level of customers is  0    Graduation\n",
      "Name: Education, dtype: object\n",
      "The marital status of an average customer customers is  0    Married\n",
      "Name: Marital_Status, dtype: object\n"
     ]
    }
   ],
   "source": [
    "# Calculate the average of  customers income, age, education, marital status and family size\n",
    "avg_age = read_df['Age'].mean()\n",
    "avg_income = read_df['Income'].mean()\n",
    "avg_education = read_df['Education'].mode() #we use mode function to find the most frequent education in customers\n",
    "avg_marital_status = read_df['Marital_Status'].mode()\n",
    "avg_family_size = read_df['Teenhome'].mean() + read_df['Kidhome'].mean()\n",
    "\n",
    "print('The average age of customers is ', round(avg_age,0))\n",
    "print('The average income of customers is ', round(avg_income,2))\n",
    "print('The average family size of customers is ', round(avg_family_size,0))\n",
    "print('The average education of level of customers is ', avg_education)\n",
    "print('The marital status of an average customer customers is ', avg_marital_status)"
   ]
  },
  {
   "cell_type": "markdown",
   "id": "1d08391d",
   "metadata": {
    "papermill": {
     "duration": 0.013369,
     "end_time": "2024-07-17T14:43:27.496291",
     "exception": false,
     "start_time": "2024-07-17T14:43:27.482922",
     "status": "completed"
    },
    "tags": []
   },
   "source": [
    "#### The average customer is a 45 year old married graduate with 1 kid and yearly income of 51,969.86"
   ]
  },
  {
   "cell_type": "markdown",
   "id": "1b746853",
   "metadata": {
    "papermill": {
     "duration": 0.013562,
     "end_time": "2024-07-17T14:43:27.523656",
     "exception": false,
     "start_time": "2024-07-17T14:43:27.510094",
     "status": "completed"
    },
    "tags": []
   },
   "source": [
    "## 5. Which products are performing best?"
   ]
  },
  {
   "cell_type": "code",
   "execution_count": 19,
   "id": "c086f63d",
   "metadata": {
    "execution": {
     "iopub.execute_input": "2024-07-17T14:43:27.555296Z",
     "iopub.status.busy": "2024-07-17T14:43:27.553885Z",
     "iopub.status.idle": "2024-07-17T14:43:27.784101Z",
     "shell.execute_reply": "2024-07-17T14:43:27.782794Z"
    },
    "papermill": {
     "duration": 0.247964,
     "end_time": "2024-07-17T14:43:27.786513",
     "exception": false,
     "start_time": "2024-07-17T14:43:27.538549",
     "status": "completed"
    },
    "tags": []
   },
   "outputs": [
    {
     "name": "stdout",
     "output_type": "stream",
     "text": [
      "MntFruits            58391\n",
      "MntSweetProducts     59895\n",
      "MntFishProducts      83397\n",
      "MntGoldProds         97415\n",
      "MntMeatProducts     370045\n",
      "MntWines            676074\n",
      "dtype: int64\n"
     ]
    },
    {
     "data": {
      "image/png": "[encoded data removed]",
      "text/plain": [
       "<Figure size 640x480 with 1 Axes>"
      ]
     },
     "metadata": {},
     "output_type": "display_data"
    }
   ],
   "source": [
    "# Let's create a df with the columns of products data\n",
    "products_df = read_df[['MntWines', 'MntFruits', 'MntMeatProducts', \n",
    "                       'MntFishProducts', 'MntSweetProducts','MntGoldProds']]\n",
    "\n",
    "#sum up the values in each of the df and sort it \n",
    "best_products = products_df.sum().sort_values()\n",
    "print(best_products)\n",
    "\n",
    "#plot the best performing product \n",
    "best_products.plot(kind = 'bar')\n",
    "plt.show()"
   ]
  },
  {
   "cell_type": "markdown",
   "id": "877f540a",
   "metadata": {
    "papermill": {
     "duration": 0.071961,
     "end_time": "2024-07-17T14:43:27.872807",
     "exception": false,
     "start_time": "2024-07-17T14:43:27.800846",
     "status": "completed"
    },
    "tags": []
   },
   "source": [
    "#### Wine is the best performing product and meat is th next best performing product."
   ]
  },
  {
   "cell_type": "markdown",
   "id": "a182f198",
   "metadata": {
    "papermill": {
     "duration": 0.014195,
     "end_time": "2024-07-17T14:43:27.901770",
     "exception": false,
     "start_time": "2024-07-17T14:43:27.887575",
     "status": "completed"
    },
    "tags": []
   },
   "source": [
    "## 6. Which channels are underperforming?"
   ]
  },
  {
   "cell_type": "code",
   "execution_count": 20,
   "id": "2033d28f",
   "metadata": {
    "execution": {
     "iopub.execute_input": "2024-07-17T14:43:27.933161Z",
     "iopub.status.busy": "2024-07-17T14:43:27.932660Z",
     "iopub.status.idle": "2024-07-17T14:43:28.155456Z",
     "shell.execute_reply": "2024-07-17T14:43:28.154216Z"
    },
    "papermill": {
     "duration": 0.241452,
     "end_time": "2024-07-17T14:43:28.157821",
     "exception": false,
     "start_time": "2024-07-17T14:43:27.916369",
     "status": "completed"
    },
    "tags": []
   },
   "outputs": [
    {
     "name": "stdout",
     "output_type": "stream",
     "text": [
      "NumDealsPurchases       5145\n",
      "NumCatalogPurchases     5918\n",
      "NumWebPurchases         9050\n",
      "NumStorePurchases      12852\n",
      "dtype: int64\n"
     ]
    },
    {
     "data": {
      "image/png": "[encoded data removed]",
      "text/plain": [
       "<Figure size 640x480 with 1 Axes>"
      ]
     },
     "metadata": {},
     "output_type": "display_data"
    }
   ],
   "source": [
    "# Let's create a df with the columns of channels data\n",
    "channels_df = read_df[['NumDealsPurchases', 'NumWebPurchases',\n",
    "                       'NumCatalogPurchases', 'NumStorePurchases']]\n",
    "\n",
    "#sum up the values in each of the df and sort it \n",
    "channel_performance = channels_df.sum().sort_values()\n",
    "print(channel_performance)\n",
    "\n",
    "#plot the underperforming channel\n",
    "channel_performance.plot(kind = 'bar')\n",
    "plt.show()"
   ]
  },
  {
   "cell_type": "markdown",
   "id": "0f54405d",
   "metadata": {
    "papermill": {
     "duration": 0.014695,
     "end_time": "2024-07-17T14:43:28.187560",
     "exception": false,
     "start_time": "2024-07-17T14:43:28.172865",
     "status": "completed"
    },
    "tags": []
   },
   "source": [
    "#### Deals channel has the lowest number of purchases with a total count of 5145."
   ]
  },
  {
   "cell_type": "markdown",
   "id": "27637d06",
   "metadata": {
    "papermill": {
     "duration": 0.01657,
     "end_time": "2024-07-17T14:43:28.219150",
     "exception": false,
     "start_time": "2024-07-17T14:43:28.202580",
     "status": "completed"
    },
    "tags": []
   },
   "source": [
    "### Conclusion:\n",
    "#### * Target customers who are single and customers from Mexico as they tend to have higher web purchases.\n",
    "#### * As 4th campaign is the most successful one focus on that one and make adjustments to campaign 3 and 5 to increase the effectiveness and attract more customers.\n",
    "#### * Target the customers who have average age of 45, graudate and married having a single kid. The average yearly income of household is 51,969.86.\n",
    "#### * As wine and meat products are the best performing products always make sure to have them in stock and offer a high quality.\n",
    "#### * As deals channel is not attracting significant customers, either make changes to the strategy of deals channel or redirect the efforts to focus more on other channels that are performing well."
   ]
  }
 ],
 "metadata": {
  "kaggle": {
   "accelerator": "none",
   "dataSources": [
    {
     "datasetId": 2847924,
     "sourceId": 4910562,
     "sourceType": "datasetVersion"
    }
   ],
   "dockerImageVersionId": 30746,
   "isGpuEnabled": false,
   "isInternetEnabled": false,
   "language": "python",
   "sourceType": "notebook"
  },
  "kernelspec": {
   "display_name": "Python 3",
   "language": "python",
   "name": "python3"
  },
  "language_info": {
   "codemirror_mode": {
    "name": "ipython",
    "version": 3
   },
   "file_extension": ".py",
   "mimetype": "text/x-python",
   "name": "python",
   "nbconvert_exporter": "python",
   "pygments_lexer": "ipython3",
   "version": "3.10.13"
  },
  "papermill": {
   "default_parameters": {},
   "duration": 12.001716,
   "end_time": "2024-07-17T14:43:28.955951",
   "environment_variables": {},
   "exception": null,
   "input_path": "__notebook__.ipynb",
   "output_path": "__notebook__.ipynb",
   "parameters": {},
   "start_time": "2024-07-17T14:43:16.954235",
   "version": "2.5.0"
  }
 },
 "nbformat": 4,
 "nbformat_minor": 5
}
